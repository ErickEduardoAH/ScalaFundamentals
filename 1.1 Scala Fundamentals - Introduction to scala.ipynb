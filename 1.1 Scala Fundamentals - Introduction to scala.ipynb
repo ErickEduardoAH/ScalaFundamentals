{
 "cells": [
  {
   "cell_type": "markdown",
   "metadata": {},
   "source": [
    "# 1.1 Introduction to Scala\n",
    "---\n",
    "\n",
    "> Erick Eduardo Aguilar Hernández:\n",
    "* isc.ErickAguilar@gmail.com\n",
    "* mat.ErickAguilar@ciencias.unam.mx\n",
    "\n",
    "---\n",
    "\n",
    "<img src=\"Static/scalaLogo.png\" width=\"50%\" height=\"50%\">\n",
    "\n",
    "\n",
    "Scala which stands for “scalable language” is an open source, multi-paradigm, high-level programming language with a robust static type system. Its type system supports parameterization and abstraction combining object-oriented and functional programming in one concise, high-level language. Static types in scala helps to avoid bugs in complex applications, and its JVM and JavaScript runtimes let you build high-performance systems with easy access to huge ecosystems of libraries.\n",
    "\n",
    "This language goes further than all other languages in fusing objectoriented and functional programming into a uniform language design. For instance, where other languages might have objects and functions as two different concepts, in Scala a function value is an object.  In addition to being a pure object-oriented language, Scala is also a full blown functional language. \n",
    "\n",
    "Functional programming is guided by two main ideas. The first idea is that functions are first-class values. In a functional language, a function is a value of the same status as. You can pass functions as arguments to other functions, return them as results from functions, or store them in variables. The second main idea of functional programming is that the operations of a program should map input values to output values rather than change data in place.\n",
    "\n",
    "Some of the aspects that make Scala an appropriate language to develop distributed computing aplications, are:\n",
    "\n",
    "* Compatibility\n",
    "* Brevity\n",
    "* High-level abstractions\n",
    "* Advanced static typing\n",
    "\n",
    "## 1.1.1 Basic types and operations\n",
    "---\n",
    "\n",
    "### Scala shell interpreter\n",
    "\n",
    "The Scala REPL (scala shell) is a scala's tool for evaluating expressions in Scala. The scala command will execute a source script by wrapping it in a template and then compiling and executing the resulting program.\n",
    "\n",
    "In interactive mode, scala shell reads expressions at the prompt, wraps them in an executable template, and then compiles and executes the result. Previous results are automatically imported into the scope of the current expression as required. Also provides some command facilities as richer shell environment.\n",
    "\n",
    "**Example:** simple operations"
   ]
  },
  {
   "cell_type": "code",
   "execution_count": 1,
   "metadata": {},
   "outputs": [
    {
     "name": "stdout",
     "output_type": "stream",
     "text": [
      "3\n",
      "Scala means scalable\n"
     ]
    }
   ],
   "source": [
    "println(1+2)\n",
    "println(\"Scala means scalable\")"
   ]
  },
  {
   "cell_type": "markdown",
   "metadata": {},
   "source": [
    "### Basic types\n",
    "\n",
    "Scala provides the following primitive data types:\n",
    "\n",
    "\n",
    "|Value  |Range   |Type                                                          |\n",
    "|:------|:-------|:-------------------------------------------------------------|\n",
    "|Byte\t|8-bit   |signed two's complement integer (-27 to 27 - 1, inclusive)    |\n",
    "|Short\t|16-bit  |signed two's complement integer (-215 to 215 - 1, inclusive)  |\n",
    "|Int\t|32-bit  |signed two's complement integer (-231 to 231 - 1, inclusive)  |\n",
    "|Long\t|64-bit  |signed two's complement integer (-263 to 263 - 1, inclusive)  |\n",
    "|Char\t|16-bit  |unsigned Unicode character (0 to 216 - 1, inclusive)          |\n",
    "|String\t|.       |A sequence of Chars                                           |\n",
    "|Float\t|32-bit  |IEEE 754 single-precision float                               |\n",
    "|Double\t|64-bit  |IEEE 754 double-precision float                               |\n",
    "|Boolean|.       |True or False                                                 |\n",
    "\n",
    "\n",
    "##### Numeric literals\n",
    "\n",
    "Literals:\n",
    "> In scala literals are hard code values assigned to a variable.\n",
    "\n",
    "**Example:** Creating basic numeric type literals in many differents ways."
   ]
  },
  {
   "cell_type": "code",
   "execution_count": 2,
   "metadata": {},
   "outputs": [
    {
     "data": {
      "text/plain": [
       "num = 255\n",
       "hexNum = 255\n",
       "longValue = 1\n",
       "doubleValue = 3.1416\n",
       "floatValue = 1.6164\n"
      ]
     },
     "metadata": {},
     "output_type": "display_data"
    },
    {
     "data": {
      "text/plain": [
       "1.6164"
      ]
     },
     "execution_count": 2,
     "metadata": {},
     "output_type": "execute_result"
    }
   ],
   "source": [
    "//Integers\n",
    "val num: Int = 255\n",
    "val hexNum: Int = 0x00FF\n",
    "//Longs\n",
    "val longValue: Long = 1L\n",
    "//Doubles \n",
    "val doubleValue: Double = 3.1416\n",
    "//Floats\n",
    "val floatValue:Float = 1.6164f"
   ]
  },
  {
   "cell_type": "markdown",
   "metadata": {},
   "source": [
    "\n",
    "Scala have the ability for figure out types programmer leave off, scala infer the type depending of the operation context."
   ]
  },
  {
   "cell_type": "code",
   "execution_count": 3,
   "metadata": {},
   "outputs": [
    {
     "data": {
      "text/plain": [
       "num2 = 255\n",
       "hexNum2 = 255\n",
       "longValue2 = 1\n",
       "doubleValue2 = 3.1416\n",
       "floatValue2 = 1.6164\n"
      ]
     },
     "metadata": {},
     "output_type": "display_data"
    },
    {
     "data": {
      "text/plain": [
       "1.6164"
      ]
     },
     "execution_count": 3,
     "metadata": {},
     "output_type": "execute_result"
    }
   ],
   "source": [
    "//Integers\n",
    "val num2 = 255\n",
    "val hexNum2 = 0x00FF\n",
    "//Longs\n",
    "val longValue2 = 1L\n",
    "//Doubles \n",
    "val doubleValue2 = 3.1416\n",
    "//Floats\n",
    "val floatValue2 = 1.6164f"
   ]
  },
  {
   "cell_type": "markdown",
   "metadata": {},
   "source": [
    "For numeric types the following operators makes sense with the acosiated precedence.\n",
    "\n",
    "|Operator|\n",
    "|--------|\n",
    "| * / %  |\n",
    "| + -    |\n",
    "| :      |\n",
    "| << >>  |\n",
    "\n",
    "Asociativity:\n",
    "\n",
    "> When multiple operators have the same precedence the asociativity of the operators determine how the oprations are grouped\n",
    "\n",
    "The precedence could be moddified using (  )\n",
    "\n",
    "**Example**: "
   ]
  },
  {
   "cell_type": "code",
   "execution_count": 4,
   "metadata": {},
   "outputs": [
    {
     "name": "stdout",
     "output_type": "stream",
     "text": [
      "5\n",
      "4\n"
     ]
    }
   ],
   "source": [
    "println(3+3*2/3)\n",
    "println((3+3)*2/3)"
   ]
  },
  {
   "cell_type": "markdown",
   "metadata": {},
   "source": [
    "##### String literals\n",
    "\n",
    "Scape chars table \n",
    "\n",
    "|Literal |Meaning           |Hex      |\n",
    "|--------|------------------|---------|\n",
    "|\\n\t     |line feed         |(\\u000A) |\n",
    "|\\b\t     |backspace         |(\\u0008) |\n",
    "|\\t\t     |tab               |(\\u0009) |\n",
    "|\\f\t     |form feed         |(\\u000C) |\n",
    "|\\r\t     |carriage return   |(\\u000D) |\n",
    "|\\\"\t     |double quote      |(\\u0022) |\n",
    "|\\'\t     |single quote      |(\\u0027) |\n",
    "|\\\\\t     |backslash         |(\\u005C) |\n",
    "\n",
    "**Example:** Interpolating strings.\n",
    "\n",
    "Scala includes a flexible mechanism for string interpolation:\n",
    "* Using s after the interpolating string, indicates to scala that the interpeter has to process the string as literal.\n",
    "* Using raw after the interpolating string, indicates to scala that the interpeter has to process the string as literal with no special chars. \n",
    "* Iside the string the $ indicates there is a single variable or expression to interpolate as string literal. If there is an expression it's necesary to place it inside curly brackets { }.\n",
    "* It's possible use java string formatter using the f and % format as in java code."
   ]
  },
  {
   "cell_type": "code",
   "execution_count": 5,
   "metadata": {},
   "outputs": [
    {
     "data": {
      "text/plain": [
       "doubleValue = 3.1416\n",
       "radius = 4\n",
       "message = \n",
       "rawMessage = Pi approx val is: \\n 3.1416!\n",
       "prefixMessage = The area of a circle with radius 4\n",
       "areaMessage = \" its approx = 50.27\"\n"
      ]
     },
     "metadata": {},
     "output_type": "display_data"
    },
    {
     "data": {
      "text/plain": [
       "Pi approx val is:\n",
       " 3.1416!\n"
      ]
     },
     "metadata": {},
     "output_type": "display_data"
    },
    {
     "data": {
      "text/plain": [
       "\" its approx = 50.27\""
      ]
     },
     "execution_count": 5,
     "metadata": {},
     "output_type": "execute_result"
    }
   ],
   "source": [
    "val doubleValue = 3.1416\n",
    "val radius = 4  \n",
    "val message = s\"Pi approx val is: \\n $doubleValue!\"\n",
    "val rawMessage = raw\"Pi approx val is: \\n $doubleValue!\"\n",
    "val prefixMessage = s\"The area of a circle with radius $radius\"\n",
    "val areaMessage = f\" its approx = ${radius*radius*doubleValue}%.2f\""
   ]
  },
  {
   "cell_type": "code",
   "execution_count": 6,
   "metadata": {},
   "outputs": [
    {
     "name": "stdout",
     "output_type": "stream",
     "text": [
      "The area of a circle with radius 4 its approx = 50.27"
     ]
    }
   ],
   "source": [
    "print(prefixMessage+areaMessage)"
   ]
  },
  {
   "cell_type": "markdown",
   "metadata": {},
   "source": [
    "##### Boolean literals\n",
    "\n",
    "Boolean literals are no different as python and scala languages."
   ]
  },
  {
   "cell_type": "code",
   "execution_count": 7,
   "metadata": {},
   "outputs": [
    {
     "name": "stdout",
     "output_type": "stream",
     "text": [
      "Bool1=true & bool2=false is: false\n",
      "Bool1=true | bool2=false is: false\n",
      "Not Bool1=true is: false\n"
     ]
    },
    {
     "data": {
      "text/plain": [
       "bool1 = true\n",
       "bool2 = false\n"
      ]
     },
     "metadata": {},
     "output_type": "display_data"
    },
    {
     "data": {
      "text/plain": [
       "false"
      ]
     },
     "execution_count": 7,
     "metadata": {},
     "output_type": "execute_result"
    }
   ],
   "source": [
    "val bool1 = true\n",
    "val bool2 = false\n",
    "\n",
    "println(s\"Bool1=$bool1 & bool2=$bool2 is: ${bool2 & bool2}\")\n",
    "println(s\"Bool1=$bool1 | bool2=$bool2 is: ${bool2 | bool2}\")\n",
    "println(s\"Not Bool1=$bool1 is: ${!bool1}\")"
   ]
  },
  {
   "cell_type": "markdown",
   "metadata": {},
   "source": [
    "## 1.1.2 Variables and Functions \n",
    "\n",
    "There are two kind of variables in scala:\n",
    "\n",
    "* **Val**: Are variables once initialized can not be reasigned new again during the program life cicle.\n",
    "* **Var**: Are variables once initialized can be reasigned new again during the program life cicle.\n",
    "\n",
    "### Scala Identifiers for variables and functions\n",
    "\n",
    "All Scala components require names. Names used for objects, classes, variables and methods are called identifiers. A keyword cannot be used as an identifier and identifiers are case-sensitive. The following words are reserved words fo scala so it can't be used as identifiers.\n",
    "\n",
    "> abstract, case, catch, class, def, do, else, extends, false, final, finally, for, forSome, if, implicit, import, lazy, match, new, Null, object, override, package, private, protected, return, sealed, super, this, throw, trait, Try, true, type, val, Var, while, with, yield\n",
    "\n",
    "\n",
    "Scala supports different types of identifiers for variables and functions:\n",
    "\n",
    "* **Alphanumeric Identifiers**: An alphanumeric identifier starts with a letter or an underscore, which can be followed by further letters, digits, or underscores. The '$' character is a reserved keyword in Scala and should not be used in identifiers. \n",
    "\n",
    "    Correct identifiers: radius, _variable,  __1_variable.\n",
    "    \n",
    "    Incorrect identifiers: $radius, 1variable, -variable.\n",
    "\n",
    "* **Literal Identifiers**: A literal identifier is an arbitrary string enclosed in back ticks ('...'). Following are legal literal identifiers.\n",
    "\n",
    "**Example**: Literal identifiers  "
   ]
  },
  {
   "cell_type": "code",
   "execution_count": 8,
   "metadata": {},
   "outputs": [
    {
     "name": "stdout",
     "output_type": "stream",
     "text": [
      "Hello World!\n"
     ]
    },
    {
     "data": {
      "text/plain": [
       "msg1 = Hello\n",
       "msg2 = World!\n"
      ]
     },
     "metadata": {},
     "output_type": "display_data"
    },
    {
     "data": {
      "text/plain": [
       "World!"
      ]
     },
     "execution_count": 8,
     "metadata": {},
     "output_type": "execute_result"
    }
   ],
   "source": [
    "val `msg1` = \"Hello\";\n",
    "val `msg2` = \"World!\"\n",
    "println(`msg1` + \" \" + `msg2`);"
   ]
  },
  {
   "cell_type": "markdown",
   "metadata": {},
   "source": [
    "### Functions\n",
    "\n",
    "Basic form for functions in scala:\n",
    "\n",
    "> def functionIdentifier(paramIdentifier : paramType): functionResultType = { FunctionBody }\n",
    "\n",
    "* **def**: “def” keyword is used to declare a function in Scala.\n",
    "* **functionIdentifier**: It should be valid name in lower camel case. Function name in Scala can have characters like +, ~, &, –, ++, \\, / etc.\n",
    "* **paramIdentifier(s)**: In Scala, comma-separated list of the input parameters are defined, preceded with their data type, within the enclosed parenthesis.\n",
    "\n",
    "* **functionResultType**: User must mention return type of parameters while defining function and return type of a function is optional. If you don’t specify any return type of a function, default return type is Unit which is equivalent to void in Java.\n",
    "\n",
    "* **= :** In Scala, a user can create function with or without = (equal) operator. If the user uses it, the function will return the desired value. If he doesn’t use it, the function will not return any value and will work like a  subroutine.\n",
    "\n",
    "* **FunctionBody**: Method body is enclosed between braces { }. The code you need to be executed to perform your intended operations.\n",
    "\n",
    "In Scala, if there is no return then the last expression is taken to be the return value.\n",
    "\n",
    "\n",
    "**Example:** Simple function in scala "
   ]
  },
  {
   "cell_type": "code",
   "execution_count": 9,
   "metadata": {},
   "outputs": [
    {
     "name": "stdout",
     "output_type": "stream",
     "text": [
      "The area of a circle with radius 4 is 50.266112"
     ]
    },
    {
     "data": {
      "text/plain": [
       "radius = 4\n"
      ]
     },
     "metadata": {},
     "output_type": "display_data"
    },
    {
     "data": {
      "text/plain": [
       "circleArea: (radius: Double)Double\n"
      ]
     },
     "metadata": {},
     "output_type": "display_data"
    },
    {
     "data": {
      "text/plain": [
       "4"
      ]
     },
     "execution_count": 9,
     "metadata": {},
     "output_type": "execute_result"
    }
   ],
   "source": [
    "def circleArea(radius: Double):Double={radius*radius*3.141632}\n",
    "val radius = 4\n",
    "print(s\"The area of a circle with radius $radius is ${circleArea(radius)}\")"
   ]
  },
  {
   "cell_type": "markdown",
   "metadata": {},
   "source": [
    "**Procedure**\n",
    "> A procedure is a function that doesn’t have a return value. Any function that ends with a statement, is a procedure. If you have a simple function without an explicit return type that ends with a statement, the Scala compiler will infer the return type of the function to be Unit, the lack of a value. For procedures greater than a single line, an explicit unit type of Unit will clearly indicate to readers that there is no return value.\n",
    "\n",
    "**Example:** Simple procedures in scala "
   ]
  },
  {
   "cell_type": "code",
   "execution_count": 10,
   "metadata": {},
   "outputs": [
    {
     "data": {
      "text/plain": [
       "circleArea: (radius: Double)Unit\n"
      ]
     },
     "metadata": {},
     "output_type": "display_data"
    },
    {
     "name": "stdout",
     "output_type": "stream",
     "text": [
      "The area of a circle with radius 4.0 is 50.266112\n"
     ]
    }
   ],
   "source": [
    "def circleArea(radius: Double):Unit={\n",
    "    val area = radius*radius*3.141632\n",
    "    println(s\"The area of a circle with radius $radius is $area\")\n",
    "}\n",
    "circleArea(4)"
   ]
  },
  {
   "cell_type": "markdown",
   "metadata": {},
   "source": [
    "As functions are objects functions could recive functions as parameters"
   ]
  },
  {
   "cell_type": "code",
   "execution_count": 11,
   "metadata": {},
   "outputs": [
    {
     "data": {
      "text/plain": [
       "function3: (callback: Int => Int)Unit\n"
      ]
     },
     "metadata": {},
     "output_type": "display_data"
    },
    {
     "data": {
      "text/plain": [
       "function1: (n: Int)Int\n",
       "function2: (m: Int)Int\n"
      ]
     },
     "metadata": {},
     "output_type": "display_data"
    }
   ],
   "source": [
    "def function3(callback: (Int) => Int):Unit={\n",
    "    var n = 0\n",
    "    while(true){\n",
    "        println(n)\n",
    "        n = callback(n)\n",
    "        Thread.sleep(1000)\n",
    "    }\n",
    "}\n",
    "def function1(n:Int):Int={n+2}\n",
    "def function2(m:Int):Int={m+3}"
   ]
  },
  {
   "cell_type": "markdown",
   "metadata": {},
   "source": [
    "Note: Methods can have variable-argument (varargs) fields. Just add a * after the field definition"
   ]
  },
  {
   "cell_type": "code",
   "execution_count": null,
   "metadata": {},
   "outputs": [],
   "source": [
    "function3(function1)"
   ]
  },
  {
   "cell_type": "code",
   "execution_count": null,
   "metadata": {},
   "outputs": [],
   "source": [
    "function3(function2)"
   ]
  }
 ],
 "metadata": {
  "kernelspec": {
   "display_name": "Apache Toree - Scala",
   "language": "scala",
   "name": "apache_toree_scala"
  },
  "language_info": {
   "codemirror_mode": "text/x-scala",
   "file_extension": ".scala",
   "mimetype": "text/x-scala",
   "name": "scala",
   "pygments_lexer": "scala",
   "version": "2.11.12"
  }
 },
 "nbformat": 4,
 "nbformat_minor": 2
}
