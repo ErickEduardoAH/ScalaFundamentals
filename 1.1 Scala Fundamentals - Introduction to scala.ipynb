{
 "cells": [
  {
   "cell_type": "markdown",
   "metadata": {},
   "source": [
    "# 1.1 Introduction to Scala\n",
    "---\n",
    "\n",
    "> Erick Eduardo Aguilar Hernández:\n",
    "* isc.ErickAguilar@gmail.com\n",
    "* mat.ErickAguilar@ciencias.unam.mx\n",
    "\n",
    "---\n",
    "\n",
    "<img src=\"Static/scalaLogo.png\" width=\"50%\" height=\"50%\">\n",
    "\n",
    "\n",
    "Scala which stands for “scalable language” is an open source, multi-paradigm, high-level programming language with a robust static type system. Its type system supports parameterization and abstraction combining object-oriented and functional programming in one concise, high-level language. Static types in scala helps to avoid bugs in complex applications, and its JVM and JavaScript runtimes let you build high-performance systems with easy access to huge ecosystems of libraries.\n",
    "\n",
    "This language goes further than all other languages in fusing objectoriented and functional programming into a uniform language design. For instance, where other languages might have objects and functions as two different concepts, in Scala a function value is an object.  In addition to being a pure object-oriented language, Scala is also a full blown functional language. \n",
    "\n",
    "Functional programming is guided by two main ideas. The first idea is that functions are first-class values. In a functional language, a function is a value of the same status as. You can pass functions as arguments to other functions, return them as results from functions, or store them in variables. The second main idea of functional programming is that the operations of a program should map input values to output values rather than change data in place.\n",
    "\n",
    "Some of the aspects that make Scala an appropriate language to develop distributed computing aplications, are:\n",
    "\n",
    "* Compatibility\n",
    "* Brevity\n",
    "* High-level abstractions\n",
    "* Advanced static typing\n"
   ]
  }
 ],
 "metadata": {
  "kernelspec": {
   "display_name": "Apache Toree - Scala",
   "language": "scala",
   "name": "apache_toree_scala"
  },
  "language_info": {
   "codemirror_mode": "text/x-scala",
   "file_extension": ".scala",
   "mimetype": "text/x-scala",
   "name": "scala",
   "pygments_lexer": "scala",
   "version": "2.11.12"
  }
 },
 "nbformat": 4,
 "nbformat_minor": 2
}
