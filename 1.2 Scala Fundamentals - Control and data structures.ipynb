{
 "cells": [
  {
   "cell_type": "markdown",
   "metadata": {},
   "source": [
    "# 1.2 Control and data structures\n",
    "\n",
    "---\n",
    "\n",
    "> Erick Eduardo Aguilar Hernández:\n",
    "* isc.ErickAguilar@gmail.com\n",
    "* mat.ErickAguilar@ciencias.unam.mx\n",
    "\n",
    "---\n",
    "## 1.2.1 Control flow\n",
    "___\n",
    "\n",
    "A control structure is a block of programming that analyzes variables and selects how to proceed based on given parameters. It is the basic decision-making process in computing that determines the program flow based on certain conditions and parameters.\n",
    "\n",
    "### If - Else\n",
    "\n",
    "The If-Else conditional expression is a classic programming construct for choosing a branch of code based on whether an expression resolves to true or false.\n",
    "\n",
    "\n",
    "\n",
    "**Match** \n",
    "Match expressions are similar to “switch” statements of C and Java, in which a single input item is checked and the first pattern that is “matched” is executed and its value returned. Like “switch” statement of C and Java, match expressions in Scala support a default “catch-all” pattern. Unlike them, in match expressions only zero or one patterns can match. There is no break statement or “fall-through” from one pattern to the next one in line that would prevent this fall-through.\n",
    "\n",
    "\n",
    "**Example** If - Else & Match simple examples"
   ]
  },
  {
   "cell_type": "code",
   "execution_count": 1,
   "metadata": {},
   "outputs": [
    {
     "data": {
      "text/plain": [
       "max: (x: Int, y: Int)Int\n"
      ]
     },
     "metadata": {},
     "output_type": "display_data"
    },
    {
     "name": "stdout",
     "output_type": "stream",
     "text": [
      "20\n",
      "50\n"
     ]
    }
   ],
   "source": [
    "def max(x: Int, y: Int):Int={\n",
    "    if (x>y)\n",
    "        x \n",
    "    else\n",
    "        y \n",
    "}\n",
    "println(max(10,20))\n",
    "println(max(max(10,20),max(50,49)))"
   ]
  },
  {
   "cell_type": "markdown",
   "metadata": {},
   "source": [
    "### Match \n",
    "\n",
    "Match are similar to switch statements of C and Java, in which a single input item is checked and the first pattern that is “matched” is executed and its value returned. Like “switch” statement of C and Java, match expressions in Scala support a default “catch-all” pattern. Unlike them, in match expressions only zero or one patterns can match. There is no break statement or “fall-through” from one pattern to the next one in line that would prevent this fall-through."
   ]
  },
  {
   "cell_type": "code",
   "execution_count": 2,
   "metadata": {},
   "outputs": [
    {
     "data": {
      "text/plain": [
       "getDayOfWeek: (day: Int)String\n"
      ]
     },
     "metadata": {},
     "output_type": "display_data"
    },
    {
     "name": "stdout",
     "output_type": "stream",
     "text": [
      "Friday\n",
      "Invalid day\n"
     ]
    }
   ],
   "source": [
    "def getDayOfWeek(day: Int):String = {\n",
    "    day match {\n",
    "        case 1 => \"Monday\"\n",
    "        case 2 => \"Tuesday\"\n",
    "        case 3 => \"Wednesday\"\n",
    "        case 4 => \"Thursday\"\n",
    "        case 5 => \"Friday\"\n",
    "        case 6 => \"Saturday\"\n",
    "        case 7 => \"Sunday\"\n",
    "        case _ => \"Invalid day\" // Default\n",
    "    }\n",
    "}\n",
    "println(getDayOfWeek(5))\n",
    "println(getDayOfWeek(9))"
   ]
  },
  {
   "cell_type": "markdown",
   "metadata": {},
   "source": [
    "Is also possible combine if expressions inside match cases."
   ]
  },
  {
   "cell_type": "code",
   "execution_count": 3,
   "metadata": {},
   "outputs": [
    {
     "data": {
      "text/plain": [
       "getDiscount: (amount: Double)Double\n"
      ]
     },
     "metadata": {},
     "output_type": "display_data"
    },
    {
     "name": "stdout",
     "output_type": "stream",
     "text": [
      " Amount after discount applied: 630.0\n",
      " Amount after discount applied: 2000.0\n"
     ]
    }
   ],
   "source": [
    "def getDiscount(amount: Double):Double = {\n",
    "     amount match {\n",
    "        case amount if 0 to 500 contains amount => amount*(1-0.05)\n",
    "        case amount if 500 to 2000 contains amount => amount*(1-0.1)\n",
    "        case amount if amount >=2000 => amount*(1-0.2)\n",
    "    }   \n",
    "}\n",
    "println(s\" Amount after discount applied: ${getDiscount(700)}\")\n",
    "println(s\" Amount after discount applied: ${getDiscount(2500)}\")"
   ]
  },
  {
   "cell_type": "markdown",
   "metadata": {},
   "source": [
    "### While loops\n",
    "\n",
    "A loop is a term for exercising a task repeatedly and may include iterating through a range of data or repeating until a Boolean expression returns false.\n",
    "\n",
    "**Example** Variable argumnet parameters.\n",
    "\n",
    "A function tih var arg parameter is a function that can match zero or more arguments from the caller. To mark a function parameter as matching one or more input arguments, add an asterisk symbol * after the parameter’s type in the function definition."
   ]
  },
  {
   "cell_type": "code",
   "execution_count": 4,
   "metadata": {},
   "outputs": [
    {
     "data": {
      "text/plain": [
       "multipleArgs: (params: Int*)Unit\n"
      ]
     },
     "metadata": {},
     "output_type": "display_data"
    },
    {
     "name": "stdout",
     "output_type": "stream",
     "text": [
      "\n",
      "1\n",
      "2\n",
      "3\n",
      "5"
     ]
    }
   ],
   "source": [
    "def multipleArgs(params: Int*)= {\n",
    "    var i =0\n",
    "    while (i < params.length){\n",
    "        if (1!=0)  \n",
    "            print(\"\\n\")\n",
    "        print(params(i))\n",
    "        i+=1\n",
    "    }\n",
    "}\n",
    "multipleArgs(1,2,3,5)"
   ]
  },
  {
   "cell_type": "markdown",
   "metadata": {},
   "source": [
    "### For loops\n",
    "\n",
    "One of the main characteristics of functional programming languajes is that functions are firt class constructs, this allows to write consise programs swithching from imperative style to functional style scpecially in loop structures.\n",
    "\n",
    "Inside scala loops is a term for exercising a task repeatedly and may include iterating through a range of data or repeating until a Boolean expression returns false.\n",
    "\n",
    "**Example** For and For each\n",
    "\n",
    "Different implementations for the last multipleArgs function."
   ]
  },
  {
   "cell_type": "code",
   "execution_count": 5,
   "metadata": {},
   "outputs": [
    {
     "data": {
      "text/plain": [
       "multipleArgs: (params: Int*)Unit\n"
      ]
     },
     "metadata": {},
     "output_type": "display_data"
    },
    {
     "name": "stdout",
     "output_type": "stream",
     "text": [
      "params at 0 is : 1\n",
      "params at 1 is : 2\n",
      "params at 2 is : 3\n",
      "params at 3 is : 5\n"
     ]
    }
   ],
   "source": [
    "def multipleArgs(params: Int*)= {\n",
    "    for (i <- 0 until params.length)\n",
    "        println(s\"params at $i is : ${params(i)}\")\n",
    "}\n",
    "\n",
    "multipleArgs(1,2,3,5)"
   ]
  },
  {
   "cell_type": "code",
   "execution_count": 6,
   "metadata": {},
   "outputs": [
    {
     "data": {
      "text/plain": [
       "multipleArgs: (params: Int*)Unit\n"
      ]
     },
     "metadata": {},
     "output_type": "display_data"
    },
    {
     "name": "stdout",
     "output_type": "stream",
     "text": [
      "1\n",
      "2\n",
      "3\n",
      "5\n"
     ]
    }
   ],
   "source": [
    "def multipleArgs(params: Int*)= {\n",
    "    for (param <- params){\n",
    "        println(param)\n",
    "    }\n",
    "}\n",
    "multipleArgs(1,2,3,5)"
   ]
  },
  {
   "cell_type": "markdown",
   "metadata": {},
   "source": [
    "\n",
    "The most important looping structure in Scala is the for-loop which is also called “for comprehension”. For loops in scala can iterate over a range of data executing an expression every time and optionally return values that is a collection of all the expression’s return values. These loops are highly supporting nested iterating, filtering, value binding and are customizable.\n",
    "\n",
    "**Examples**\n",
    "\n",
    "For example in scala an other more concise to iterate is the following"
   ]
  },
  {
   "cell_type": "code",
   "execution_count": 7,
   "metadata": {},
   "outputs": [
    {
     "data": {
      "text/plain": [
       "multipleArgs: (params: Int*)Unit\n"
      ]
     },
     "metadata": {},
     "output_type": "display_data"
    },
    {
     "name": "stdout",
     "output_type": "stream",
     "text": [
      "1\n",
      "2\n",
      "3\n",
      "5\n"
     ]
    }
   ],
   "source": [
    "def multipleArgs(params: Int*)= {\n",
    "    params.foreach(println)\n",
    "}\n",
    "multipleArgs(1,2,3,5)"
   ]
  },
  {
   "cell_type": "markdown",
   "metadata": {},
   "source": [
    "This code print the even numbers from 0 to 10"
   ]
  },
  {
   "cell_type": "code",
   "execution_count": 8,
   "metadata": {},
   "outputs": [
    {
     "name": "stdout",
     "output_type": "stream",
     "text": [
      "2\n",
      "4\n",
      "6\n",
      "8\n",
      "10\n"
     ]
    }
   ],
   "source": [
    "for (i <- 1 to 10 if i % 2 ==0) println(i)"
   ]
  },
  {
   "cell_type": "markdown",
   "metadata": {},
   "source": [
    "reading line from file"
   ]
  },
  {
   "cell_type": "code",
   "execution_count": 9,
   "metadata": {
    "scrolled": true
   },
   "outputs": [
    {
     "data": {
      "text/plain": [
       "printFile: (path: String)Unit\n"
      ]
     },
     "metadata": {},
     "output_type": "display_data"
    },
    {
     "name": "stdout",
     "output_type": "stream",
     "text": [
      "I AM SAM  I AM SAM  SAM I AM\n",
      "THAT SAM I AM  THAT SAM I AM  I DO NOT LIKE THAT SAM I AM\n",
      "DO WOULD YOU LIKE GREEN EGGS AND HAM\n",
      "I DO NOT LIKE THEM SAM I AM\n",
      "I DO NOT LIKE GREEN EGGS AND HAM\n",
      "WOULD YOU LIKE THEM HERE OR THERE\n",
      "I WOULD NOT LIKE THEM HERE OR THERE\n",
      "I WOULD NOT LIKE THEM ANYWHERE\n",
      "I DO NOT LIKE GREEN EGGS AND HAM\n",
      "I DO NOT LIKE THEM  SAM I AM\n",
      "WOULD YOU LIKE THEM IN A HOUSE\n",
      "WOULD YOU LIKE THEN WITH A MOUSE\n",
      "I DO NOT LIKE THEM IN A HOUSE\n",
      "I DO NOT LIKE THEM WITH A MOUSE\n",
      "I DO NOT LIKE THEM HERE OR THERE\n",
      "I DO NOT LIKE THEM ANYWHERE\n",
      "I DO NOT LIKE GREEN EGGS AND HAM\n",
      "I DO NOT LIKE THEM  SAM I AM\n",
      "WOULD YOU EAT THEM IN A BOX\n",
      "WOULD YOU EAT THEM WITH A FOX\n",
      "NOT IN A BOX  NOT WITH A FOX\n",
      "NOT IN A HOUSE  NOT WITH A MOUSE\n",
      "I WOULD NOT EAT THEM HERE OR THERE\n",
      "I WOULD NOT EAT THEM ANYWHERE\n",
      "I WOULD NOT EAT GREEN EGGS AND HAM\n",
      "I DO NOT LIKE THEM  SAM I AM\n",
      "WOULD YOU  COULD YOU  IN A CAR\n",
      "EAT THEM  EAT THEM  HERE THEY ARE\n",
      "I WOULD NOT  COULD NOT  IN A CAR\n",
      "YOU MAY LIKE THEM  YOU WILL SEE\n",
      "YOU MAY LIKE THEM IN A TREE\n",
      "I WOULD NOT  COULD NOT IN A TREE\n",
      "NOT IN A CAR  YOU LET ME BE\n",
      "I DO NOT LIKE THEM IN A BOX\n",
      "I DO NOT LIKE THEM WITH A FOX\n",
      "I DO NOT LIKE THEM IN A HOUSE\n",
      "I DO NOT LIKE THEM WITH A MOUSE\n",
      "I DO NOT LIKE THEM HERE OR THERE\n",
      "I DO NOT LIKE THEM ANYWHERE\n",
      "I DO NOT LIKE GREEN EGGS AND HAM\n",
      "I DO NOT LIKE THEM  SAM I AM\n",
      "A TRAIN  A TRAIN  A TRAIN  A TRAIN\n",
      "COULD YOU  WOULD YOU ON A TRAIN\n",
      "NOT ON TRAIN  NOT IN A TREE\n",
      "NOT IN A CAR  SAM  LET ME BE\n",
      "I WOULD NOT  COULD NOT  IN A BOX\n",
      "I WOULD NOT  COULD NOT  WITH A FOX\n",
      "I WILL NOT EAT THEM IN A HOUSE\n",
      "I WILL NOT EAT THEM HERE OR THERE\n",
      "I WILL NOT EAT THEM ANYWHERE\n",
      "I DO NOT EAT GREEM EGGS AND HAM\n",
      "I DO NOT LIKE THEM  SAM I AM\n",
      "SAY  IN THE DARK  HERE IN THE DARK\n",
      "WOULD YOU  COULD YOU  IN THE DARK\n",
      "I WOULD NOT  COULD NOT  IN THE DARK\n",
      "WOULD YOU COULD YOU IN THE RAIN\n",
      "I WOULD NOT  COULD NOT IN THE RAIN\n",
      "NOT IN THE DARK  NOT ON A TRAIN\n",
      "NOT IN A CAR  NOT IN A TREE\n",
      "I DO NOT LIKE THEM  SAM  YOU SEE\n",
      "NOT IN A HOUSE  NOT IN A BOX\n",
      "NOT WITH A MOUSE  NOT WITH A FOX\n",
      "I WILL NOT EAT THEM HERE OR THERE\n",
      "I DO NOT LIKE THEM ANYWHERE\n",
      "YOU DO NOT LIKE GREEN EGGS AND HAM\n",
      "I DO NOT LIKE THEM  SAM I AM\n",
      "COULD YOU  WOULD YOU  WITH A GOAT\n",
      "I WOULD NOT  COULD NOT WITH A GOAT\n",
      "WOULD YOU  COULD YOU  ON A BOAT\n",
      "I COULD NOT  WOULD NOT  ON A BOAT\n",
      "I WILL NOT  WILL NOT  WITH A GOAT\n",
      "I WILL NOT EAT THEM IN THE RAIN\n",
      "NOT IN THE DARK  NOT IN A TREE\n",
      "NOT IN A CAR  YOU LET ME BE\n",
      "I DO NOT LIKE THEM IN A BOX\n",
      "I DO NOT LIKE THEM WITH A FOX\n",
      "I WILL NOT EAT THEM IN A HOUSE\n",
      "I DO NOT LIKE THEM WITH A MOUSE\n",
      "I DO NOT LIKE THEM HERE OR THERE \n",
      "I DO NOT LIKE THEM ANYWHERE\n",
      "I DO NOT LIKE GREEN EGGS AND HAM\n",
      "I DO NOT LIKE THEM  SAM I AM\n",
      "YOU DO NOT LIKE THEM  SO YOU SAY\n",
      "TRY THEM  TRY THEM  AND YOU MAY\n",
      "TRY THEM AND YOU MAY  I SAY\n",
      "sAM  IF YOU LET ME BE\n",
      "I WILL TRY THEM  YOU WILL SEE\n",
      "SAY  I LIKE GREEN EGGS AND HAM\n",
      "I DO  I LIKE THEM  SAM I AM\n",
      "AND I WOULD EAT THEM IN A BOAT\n",
      "AND I WOULD EAT THEM WITH A GOAT\n",
      "AND I WILL EAT THEM  IN THE RAIN\n",
      "AND IN THE DARK  AND ON A TRAIN\n",
      "AND IN A CAR  AND IN A TREE\n",
      "THEY ARE SO GOOD  SO GOOD  YOU SEE\n",
      "SO I WILL EAT THEM IN A BOX\n",
      "AND I WILL EAT THEM WITH A FOX\n",
      "AND I WILL EAT THEM IN A HOUSE\n",
      "AND I WILL EAT THEM WITH A MOUSE\n",
      "AND I WILL EAT THEM HERE AND THERE\n",
      "SAY  I WILL EAT THEM ANYWHERE\n",
      "I DO SO LIKE GREEN EGGS AND HAM\n",
      "THANK YOU  THANK YOU  SAM I AM\n"
     ]
    }
   ],
   "source": [
    "import scala.io.Source\n",
    "def printFile(path:String){\n",
    "    for (line <- Source.fromFile(path).getLines) println(line)\n",
    "}\n",
    "printFile(\"DataSets/green_eggs_and_ham.txt\")"
   ]
  },
  {
   "cell_type": "markdown",
   "metadata": {},
   "source": [
    "## 1.2.2 Data structures\n",
    "___\n",
    "\n",
    "#### Arrays\n",
    "\n",
    "Arrays is te most know data struture in all languajes. An array is used to store a collection of variables with the same type. Arrays in scala are mutables.\n",
    "\n",
    "**Example:** Insertion sort over array in scala"
   ]
  },
  {
   "cell_type": "code",
   "execution_count": 10,
   "metadata": {},
   "outputs": [
    {
     "data": {
      "text/plain": [
       "array = Array(1, 2, 3, 4, 5, 5, 6, 7, 8, 9)\n",
       "orderedArray = Array(1, 2, 3, 4, 5, 5, 6, 7, 8, 9)\n"
      ]
     },
     "metadata": {},
     "output_type": "display_data"
    },
    {
     "data": {
      "text/plain": [
       "insertSortForArrays: (list: Array[Int])Array[Int]\n"
      ]
     },
     "metadata": {},
     "output_type": "display_data"
    },
    {
     "data": {
      "text/plain": [
       "Array(1, 2, 3, 4, 5, 5, 6, 7, 8, 9)"
      ]
     },
     "execution_count": 10,
     "metadata": {},
     "output_type": "execute_result"
    }
   ],
   "source": [
    "def insertSortForArrays(list:Array[Int]) = {  \n",
    "    var j = 1\n",
    "    while(j<list.length){   \n",
    "        val key = list(j)\n",
    "        var i = j-1\n",
    "        while(i>=0 && list(i)>key){\n",
    "            list(i+1) = list(i)\n",
    "            i=i-1\n",
    "        }\n",
    "        list(i+1)=key\n",
    "        j=j+1\n",
    "    }\n",
    "    list\n",
    "}\n",
    "val array = Array(5,9,7,1,5,3,4,8,2,6)\n",
    "val orderedArray = insertSortForArrays(array)"
   ]
  },
  {
   "cell_type": "markdown",
   "metadata": {},
   "source": [
    "#### Lists\n",
    "Scala Lists are quite similar to arrays which means, all the elements of a list have the same type but there are two important differences. First, lists are immutable, which means elements of a list cannot be changed by assignment. Second, lists represent a linked list whereas arrays are flat. "
   ]
  },
  {
   "cell_type": "code",
   "execution_count": 11,
   "metadata": {},
   "outputs": [
    {
     "data": {
      "text/plain": [
       "strList = List(bob, alice, carol)\n",
       "strList2 = List(fifo, fifo, fifo)\n",
       "nums = List(1, 2, 3, 4)\n",
       "empty = List()\n",
       "rangeLst = List(1, 2, 3, 4, 5, 6, 7, 8, 9)\n",
       "rangeLst2 = List(1, 3, 5, 7, 9)\n",
       "filledLst = List(foo, foo, foo)\n",
       "tabs = List(0, 2, 4, 6, 8)\n"
      ]
     },
     "metadata": {},
     "output_type": "display_data"
    },
    {
     "data": {
      "text/plain": [
       "List(0, 2, 4, 6, 8)"
      ]
     },
     "execution_count": 11,
     "metadata": {},
     "output_type": "execute_result"
    }
   ],
   "source": [
    "// Creating lists\n",
    "var strList: List[String] = List(\"bob\", \"alice\", \"carol\")\n",
    "var strList2: List[String] =  List.fill(3)(\"fifo\")\n",
    "var nums: List[Int] = List(1, 2, 3, 4)\n",
    "var empty: List[Nothing] = List()\n",
    "var rangeLst = List.range(1,10)\n",
    "var rangeLst2 = List.range(1,10,2)\n",
    "var filledLst = List.fill(3)(\"foo\")\n",
    "var tabs = List.tabulate(5)(n => 2*n)"
   ]
  },
  {
   "cell_type": "markdown",
   "metadata": {},
   "source": [
    "Common lists methods. \n",
    "\n",
    "|Methods |  Description |\n",
    "|---------|--------------|\n",
    "|head     | This method returns the first element of a list. |\n",
    "|tail     | This method returns a list consisting of all elements except the first. |\n",
    "|isEmpty  | This method returns true if the list is empty otherwise false.  |\n",
    "|length    | This method returns the lengt of the list.  |\n",
    "\n",
    "\n",
    "Lists operators\n",
    "\n",
    "|Methods |  Description |\n",
    "|---------|--------------|\n",
    "|def ::(x: A): List[A]     | Adds an element at the beginning of this list. |\n",
    "|def :::(prefix: List[A]): List[A]  | Adds the elements of a given list in front of this list  |\n",
    "|def ::(x: A): List[A]| Adds an element x at the beginning of the list|\n",
    "\n",
    "\n",
    "All lists can be defined using two fundamental building blocks, a tail Nil and ::, which is pronounced cons. Nil also represents the empty list\n",
    "\n",
    "**Example:** Concatenating lists"
   ]
  },
  {
   "cell_type": "code",
   "execution_count": 12,
   "metadata": {},
   "outputs": [
    {
     "name": "stdout",
     "output_type": "stream",
     "text": [
      "List(List(denisse, mario), bob, alice, carol)\n",
      "List(List(bob, alice, carol), denisse, mario)\n",
      "List(denisse, mario, bob, alice, carol)\n",
      "List(0, 1, 2, 3, 4)\n",
      "bob\n",
      "List(alice, carol)\n"
     ]
    },
    {
     "data": {
      "text/plain": [
       "strList = List(bob, alice, carol)\n",
       "strList2 = List(denisse, mario)\n"
      ]
     },
     "metadata": {},
     "output_type": "display_data"
    },
    {
     "data": {
      "text/plain": [
       "List(denisse, mario)"
      ]
     },
     "execution_count": 12,
     "metadata": {},
     "output_type": "execute_result"
    }
   ],
   "source": [
    "val strList = List(\"bob\", \"alice\", \"carol\")\n",
    "val strList2 = List(\"denisse\", \"mario\")\n",
    "println(strList.::(strList2))\n",
    "println(strList::(strList2))\n",
    "println(strList.:::(strList2))\n",
    "println(0 :: nums)\n",
    "println(strList.head)\n",
    "println(strList.tail)"
   ]
  },
  {
   "cell_type": "markdown",
   "metadata": {},
   "source": [
    "**Example:** Recursive insertion sort with lists"
   ]
  },
  {
   "cell_type": "code",
   "execution_count": 13,
   "metadata": {},
   "outputs": [
    {
     "data": {
      "text/plain": [
       "list = List(9, 7, 1, 5, 3, 4, 8, 2, 6)\n",
       "orderedList = List(1, 2, 3, 4, 5, 6, 7, 8, 9)\n"
      ]
     },
     "metadata": {},
     "output_type": "display_data"
    },
    {
     "data": {
      "text/plain": [
       "insert: (value: Int, list: List[Int])List[Int]\n",
       "insertionsort: (list: List[Int])List[Int]\n"
      ]
     },
     "metadata": {},
     "output_type": "display_data"
    },
    {
     "data": {
      "text/plain": [
       "List(1, 2, 3, 4, 5, 6, 7, 8, 9)"
      ]
     },
     "execution_count": 13,
     "metadata": {},
     "output_type": "execute_result"
    }
   ],
   "source": [
    "def insert(value: Int, list: List[Int]):List[Int] =\n",
    "    if (list.isEmpty  || value <= list.head) value :: list\n",
    "    else list.head :: insert(value, list.tail)\n",
    "\n",
    "def insertionsort(list:List[Int]): List[Int] =\n",
    "    if (list.isEmpty) Nil\n",
    "    else insert(list.head,insertionsort(list.tail))\n",
    "\n",
    "val list = List(9,7,1,5,3,4,8,2,6)\n",
    "val orderedList = insertionsort(list)"
   ]
  },
  {
   "cell_type": "markdown",
   "metadata": {},
   "source": [
    "**Filter method**\n",
    "\n",
    "The Scala List class filter method implicitly loops over the List/Seq you supply, tests each element of the List with the function you supply. Your function must return true or false, and filter returns the list elements where your function returns true.\n",
    "\n",
    "**Example:** Recursive quicksort sort with lists (Filters)"
   ]
  },
  {
   "cell_type": "code",
   "execution_count": 14,
   "metadata": {},
   "outputs": [
    {
     "data": {
      "text/plain": [
       "orderedList = List(1, 2, 3, 4, 5, 6, 7, 8, 9)\n"
      ]
     },
     "metadata": {},
     "output_type": "display_data"
    },
    {
     "data": {
      "text/plain": [
       "warning: there were three feature warnings; re-run with -feature for details\n",
       "quicksort: (list: List[Int])List[Int]\n"
      ]
     },
     "metadata": {},
     "output_type": "display_data"
    },
    {
     "data": {
      "text/plain": [
       "List(1, 2, 3, 4, 5, 6, 7, 8, 9)"
      ]
     },
     "execution_count": 14,
     "metadata": {},
     "output_type": "execute_result"
    }
   ],
   "source": [
    "def quicksort(list: List[Int]):List[Int] = {\n",
    "    if (list.length <= 1) list\n",
    "    else {\n",
    "        val pivot = list(list.length/2)\n",
    "        quicksort(list.filter(pivot > )) ::: \n",
    "        list.filter(pivot == ) ::: \n",
    "        quicksort(list.filter(pivot < ))\n",
    "    }\n",
    "}\n",
    "val orderedList = quicksort(list)"
   ]
  },
  {
   "cell_type": "markdown",
   "metadata": {},
   "source": [
    "**Tabulate method** \n",
    "\n",
    "The tabulate method creates a new List whose elements are created according to the function you supply.\n",
    "\n",
    "**Example:** Tabulating values"
   ]
  },
  {
   "cell_type": "code",
   "execution_count": 15,
   "metadata": {},
   "outputs": [
    {
     "name": "stdout",
     "output_type": "stream",
     "text": [
      "squares : List(0, 1, 4, 9, 16, 25)\n",
      "mul : List(List(0, 0, 0, 0, 0), List(0, 1, 2, 3, 4), List(0, 2, 4, 6, 8), List(0, 3, 6, 9, 12))\n"
     ]
    },
    {
     "data": {
      "text/plain": [
       "squares = List(0, 1, 4, 9, 16, 25)\n",
       "mul = List(List(0, 0, 0, 0, 0), List(0, 1, 2, 3, 4), List(0, 2, 4, 6, 8), List(0, 3, 6, 9, 12))\n"
      ]
     },
     "metadata": {},
     "output_type": "display_data"
    },
    {
     "data": {
      "text/plain": [
       "List(List(0, 0, 0, 0, 0), List(0, 1, 2, 3, 4), List(0, 2, 4, 6, 8), List(0, 3, 6, 9, 12))"
      ]
     },
     "execution_count": 15,
     "metadata": {},
     "output_type": "execute_result"
    }
   ],
   "source": [
    "val squares = List.tabulate(6)(n => n * n)\n",
    "println( \"squares : \" + squares)\n",
    "\n",
    "val mul = List.tabulate(4,5)(_*_)\n",
    "println( \"mul : \" + mul)"
   ]
  },
  {
   "cell_type": "markdown",
   "metadata": {},
   "source": [
    "**Maps method and map method**\n",
    "\n",
    "Map() function applies a given to function to each item of an iterable and returns a list of the results. The returned value from map() (map object) then can be passed to functions like list() (to create a list), set() (to create a set) and so on.\n",
    "\n",
    "**Example**: mean and variance implementation"
   ]
  },
  {
   "cell_type": "code",
   "execution_count": 119,
   "metadata": {},
   "outputs": [
    {
     "data": {
      "text/plain": [
       "listNums = List(1.0, 2.0, 6.0, 5.0, 5.0, 6.0, 4.0)\n",
       "mean = 4.142857142857143\n",
       "variance = 22.857142857142858\n"
      ]
     },
     "metadata": {},
     "output_type": "display_data"
    },
    {
     "data": {
      "text/plain": [
       "sumList: (list: List[Double])Double\n"
      ]
     },
     "metadata": {},
     "output_type": "display_data"
    },
    {
     "data": {
      "text/plain": [
       "22.857142857142858"
      ]
     },
     "execution_count": 119,
     "metadata": {},
     "output_type": "execute_result"
    }
   ],
   "source": [
    "val listNums: List[Double] = List(1,2,6,5,5,6,4)\n",
    "\n",
    "def sumList(list: List[Double]):Double = {\n",
    "    if (list.isEmpty) 0.toDouble\n",
    "    else list.head + sumList(list.tail)\n",
    "}\n",
    "\n",
    "val mean = sumList(listNums)/listNums.length\n",
    "val variance = sumList(listNums.map(x => (x-mean)*(x-mean)))"
   ]
  },
  {
   "cell_type": "markdown",
   "metadata": {},
   "source": [
    "A Map is an Iterable consisting of pairs of keys and values (also named mappings or associations). Scala’s Predef object offers an implicit conversion that lets you write key -> value as an alternate syntax for the pair (key, value). A map object also could be represented as a function.\n",
    "\n",
    "**Example:** Mapping a list"
   ]
  },
  {
   "cell_type": "code",
   "execution_count": 91,
   "metadata": {},
   "outputs": [
    {
     "name": "stdout",
     "output_type": "stream",
     "text": [
      "MEXICO\n",
      "UINITED STATES\n",
      "COLOMBIA\n",
      "MEXICO\n",
      "UINITED STATES\n",
      "COLOMBIA\n",
      "MX is MEXICO\n",
      "USA is UINITED STATES\n",
      "COL is COLOMBIA\n"
     ]
    },
    {
     "data": {
      "text/plain": [
       "countriesMaps = Map(PERU -> PE, MEXICO -> MX, COLOMBIA -> COL, ARGENTINA -> AR, SPAIN -> ES, UINITED STATES -> USA)\n",
       "countries = List(MEXICO, UINITED STATES, COLOMBIA)\n",
       "abbreviations = List(MX, USA, COL)\n"
      ]
     },
     "metadata": {},
     "output_type": "display_data"
    },
    {
     "data": {
      "text/plain": [
       "List((), (), ())"
      ]
     },
     "execution_count": 91,
     "metadata": {},
     "output_type": "execute_result"
    }
   ],
   "source": [
    "val countriesMaps = Map(\"MEXICO\"->\"MX\",\"UINITED STATES\"->\"USA\",\"COLOMBIA\"->\"COL\",\n",
    "              \"ARGENTINA\"->\"AR\",\"PERU\"->\"PE\",\"SPAIN\"->\"ES\")\n",
    "\n",
    "val countries = List(\"MEXICO\",\"UINITED STATES\",\"COLOMBIA\")\n",
    "val abbreviations = countries.map(countriesMaps)\n",
    "\n",
    "countries.map(println)\n",
    "countries.map(println)\n",
    "countries.map(c=> countriesMaps(c)+\" is \"+c).map(println)"
   ]
  },
  {
   "cell_type": "markdown",
   "metadata": {},
   "source": [
    "### Other data structures\n",
    "\n",
    "#### Seqs\n",
    "\n",
    "Seqs (Sequences) are a mutable data structure that provides good perfomance qhen you are working with ordered data. Seq has two principal subtraits:\n",
    "\n",
    "* IndexedSeq: provides fast random-access of elements and a fast length operation\n",
    "* LinearSeq: provides fast access only to the first element via head, but also has a fast tail operation.\n",
    "\n",
    "In Java terms, Scala's Seq would be Java's List, and Scala's List would be Java's LinkedList. Seqs share some operations like lists in scala. \n",
    "\n",
    "#### Sets\n",
    "\n",
    "Sets are iterable data structures that contains no duplicate elements. This data structure implements operatios from set theory like: contains, subsetOf, union, intersection, difference.\n",
    "\n",
    "#### Tuples \n",
    "\n",
    "In Scala, a tuple is a value that contains a fixed number of elements, each with a distinct type. Tuples are immutable. Tuples are especially handy for returning multiple values from a method. One way of accessing tuple elements is by position. The individual elements are named _1, _2,... and so forth.\n",
    "\n",
    "**Example:** Seqs Sets and Tupples"
   ]
  },
  {
   "cell_type": "code",
   "execution_count": 40,
   "metadata": {},
   "outputs": [
    {
     "name": "stdout",
     "output_type": "stream",
     "text": [
      "1\n",
      "Range(2, 3, 4, 5)\n",
      "1\n",
      "Vector(1, 2, 3, 4, 6)\n",
      "Vector(1, 2, 3, 4, 6, 7, 8, 9)\n"
     ]
    },
    {
     "data": {
      "text/plain": [
       "seq1 = Range(1, 2, 3, 4, 5)\n",
       "seq2 = Range(1, 2, 3, 4)\n"
      ]
     },
     "metadata": {},
     "output_type": "display_data"
    },
    {
     "data": {
      "text/plain": [
       "Range(1, 2, 3, 4)"
      ]
     },
     "execution_count": 40,
     "metadata": {},
     "output_type": "execute_result"
    }
   ],
   "source": [
    "val seq1 = (1 to 5).toSeq\n",
    "val seq2 = (1 until 5).toSeq\n",
    "println(seq1.head)\n",
    "println(seq1.tail)\n",
    "println(seq1(0))\n",
    "println(seq2:+6)\n",
    "println(seq2++Seq(6,7,8,9))"
   ]
  },
  {
   "cell_type": "code",
   "execution_count": 41,
   "metadata": {},
   "outputs": [
    {
     "name": "stdout",
     "output_type": "stream",
     "text": [
      "Set(e, a, b, c, d)\n",
      "Set(c)\n"
     ]
    },
    {
     "data": {
      "text/plain": [
       "set1 = Set(a, b, c)\n",
       "set2 = Set(c, d, e)\n"
      ]
     },
     "metadata": {},
     "output_type": "display_data"
    },
    {
     "data": {
      "text/plain": [
       "Set(c, d, e)"
      ]
     },
     "execution_count": 41,
     "metadata": {},
     "output_type": "execute_result"
    }
   ],
   "source": [
    "val set1 = Set('a','b','c')\n",
    "val set2 = Set('c','d','e') \n",
    "println(set1.union(set2))\n",
    "println(set1.intersect(set2))"
   ]
  },
  {
   "cell_type": "code",
   "execution_count": 60,
   "metadata": {},
   "outputs": [
    {
     "name": "stdout",
     "output_type": "stream",
     "text": [
      "The planet Mercury is a 57.9 millions of km from the sun"
     ]
    },
    {
     "data": {
      "text/plain": [
       "planets = List((Mercury,57.9), (Venus,108.2), (Earth,149.6), (Mars,227.9), (Jupiter,778.3))\n"
      ]
     },
     "metadata": {},
     "output_type": "display_data"
    },
    {
     "data": {
      "text/plain": [
       "List((Mercury,57.9), (Venus,108.2), (Earth,149.6), (Mars,227.9), (Jupiter,778.3))"
      ]
     },
     "execution_count": 60,
     "metadata": {},
     "output_type": "execute_result"
    }
   ],
   "source": [
    "val planets = List((\"Mercury\", 57.9), (\"Venus\", 108.2), (\"Earth\", 149.6),\n",
    "               (\"Mars\", 227.9), (\"Jupiter\", 778.3))\n",
    "\n",
    "print(s\"The planet ${planets(0)._1} is a ${planets(0)._2} millions of km from the sun\")"
   ]
  }
 ],
 "metadata": {
  "kernelspec": {
   "display_name": "Apache Toree - Scala",
   "language": "scala",
   "name": "apache_toree_scala"
  },
  "language_info": {
   "codemirror_mode": "text/x-scala",
   "file_extension": ".scala",
   "mimetype": "text/x-scala",
   "name": "scala",
   "pygments_lexer": "scala",
   "version": "2.11.12"
  }
 },
 "nbformat": 4,
 "nbformat_minor": 2
}
