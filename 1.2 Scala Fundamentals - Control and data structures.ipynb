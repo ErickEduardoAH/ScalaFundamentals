{
 "cells": [
  {
   "cell_type": "markdown",
   "metadata": {},
   "source": [
    "# 1.2 Control and data structures\n",
    "\n",
    "---\n",
    "\n",
    "> Erick Eduardo Aguilar Hernández:\n",
    "* isc.ErickAguilar@gmail.com\n",
    "* mat.ErickAguilar@ciencias.unam.mx\n",
    "\n",
    "---\n",
    "# 1.2.1 Control flow\n",
    "\n",
    "A control structure is a block of programming that analyzes variables and selects how to proceed based on given parameters. It is the basic decision-making process in computing that determines the program flow based on certain conditions and parameters.\n",
    "\n",
    "**If Else** \n",
    "\n",
    "The If-Else conditional expression is a classic programming construct for choosing a branch of code based on whether an expression resolves to true or false.\n",
    "\n",
    "\n",
    "\n",
    "**Match** \n",
    "Match expressions are similar to “switch” statements of C and Java, in which a single input item is checked and the first pattern that is “matched” is executed and its value returned. Like “switch” statement of C and Java, match expressions in Scala support a default “catch-all” pattern. Unlike them, in match expressions only zero or one patterns can match. There is no break statement or “fall-through” from one pattern to the next one in line that would prevent this fall-through.\n",
    "\n",
    "\n",
    "**Example** If - Else & Match simple examples"
   ]
  },
  {
   "cell_type": "code",
   "execution_count": 1,
   "metadata": {},
   "outputs": [
    {
     "name": "stdout",
     "output_type": "stream",
     "text": [
      "20\n",
      "50\n"
     ]
    },
    {
     "data": {
      "text/plain": [
       "max: (x: Int, y: Int)Int\n"
      ]
     },
     "metadata": {},
     "output_type": "display_data"
    }
   ],
   "source": [
    "def max(x: Int, y: Int):Int={\n",
    "    if (x>y)\n",
    "        x \n",
    "    else\n",
    "        y \n",
    "}\n",
    "println(max(10,20))\n",
    "println(max(max(10,20),max(50,49)))"
   ]
  },
  {
   "cell_type": "markdown",
   "metadata": {},
   "source": [
    "**Match** \n",
    "\n",
    "Match are similar to switch statements of C and Java, in which a single input item is checked and the first pattern that is “matched” is executed and its value returned. Like “switch” statement of C and Java, match expressions in Scala support a default “catch-all” pattern. Unlike them, in match expressions only zero or one patterns can match. There is no break statement or “fall-through” from one pattern to the next one in line that would prevent this fall-through."
   ]
  },
  {
   "cell_type": "code",
   "execution_count": 2,
   "metadata": {},
   "outputs": [
    {
     "data": {
      "text/plain": [
       "getDayOfWeek: (day: Int)String\n"
      ]
     },
     "metadata": {},
     "output_type": "display_data"
    },
    {
     "name": "stdout",
     "output_type": "stream",
     "text": [
      "Friday\n",
      "Invalid day\n"
     ]
    }
   ],
   "source": [
    "def getDayOfWeek(day: Int):String = {\n",
    "    day match {\n",
    "        case 1 => \"Monday\"\n",
    "        case 2 => \"Tuesday\"\n",
    "        case 3 => \"Wednesday\"\n",
    "        case 4 => \"Thursday\"\n",
    "        case 5 => \"Friday\"\n",
    "        case 6 => \"Saturday\"\n",
    "        case 7 => \"Sunday\"\n",
    "        case _ => \"Invalid day\" // Default\n",
    "    }\n",
    "}\n",
    "println(getDayOfWeek(5))\n",
    "println(getDayOfWeek(9))"
   ]
  },
  {
   "cell_type": "markdown",
   "metadata": {},
   "source": [
    "Is also possible combine if expressions inside match cases."
   ]
  },
  {
   "cell_type": "code",
   "execution_count": 3,
   "metadata": {},
   "outputs": [
    {
     "data": {
      "text/plain": [
       "getDiscount: (amount: Double)Double\n"
      ]
     },
     "metadata": {},
     "output_type": "display_data"
    },
    {
     "name": "stdout",
     "output_type": "stream",
     "text": [
      " Amount after discount applied: 630.0\n",
      " Amount after discount applied: 2000.0\n"
     ]
    }
   ],
   "source": [
    "def getDiscount(amount: Double):Double = {\n",
    "     amount match {\n",
    "        case amount if 0 to 500 contains amount => amount*(1-0.05)\n",
    "        case amount if 500 to 2000 contains amount => amount*(1-0.1)\n",
    "        case amount if amount >=2000 => amount*(1-0.2)\n",
    "    }   \n",
    "}\n",
    "println(s\" Amount after discount applied: ${getDiscount(700)}\")\n",
    "println(s\" Amount after discount applied: ${getDiscount(2500)}\")"
   ]
  },
  {
   "cell_type": "markdown",
   "metadata": {},
   "source": [
    "**While loops**\n",
    "\n",
    "A loop is a term for exercising a task repeatedly and may include iterating through a range of data or repeating until a Boolean expression returns false.\n",
    "\n",
    "**Example** Variable argumnet parameters.\n",
    "\n",
    "A function tih var arg parameter is a function that can match zero or more arguments from the caller. To mark a function parameter as matching one or more input arguments, add an asterisk symbol * after the parameter’s type in the function definition."
   ]
  },
  {
   "cell_type": "code",
   "execution_count": 4,
   "metadata": {},
   "outputs": [
    {
     "data": {
      "text/plain": [
       "multipleArgs: (params: Int*)Unit\n"
      ]
     },
     "metadata": {},
     "output_type": "display_data"
    },
    {
     "name": "stdout",
     "output_type": "stream",
     "text": [
      "\n",
      "1\n",
      "2\n",
      "3\n",
      "5"
     ]
    }
   ],
   "source": [
    "def multipleArgs(params: Int*)= {\n",
    "    var i =0\n",
    "    while (i < params.length){\n",
    "        if (1!=0)  \n",
    "            print(\"\\n\")\n",
    "        print(params(i))\n",
    "        i+=1\n",
    "    }\n",
    "}\n",
    "multipleArgs(1,2,3,5)"
   ]
  },
  {
   "cell_type": "markdown",
   "metadata": {},
   "source": [
    "**For loops**\n",
    "\n",
    "One of the main characteristics of functional programming languajes is that functions are firt class constructs, this allows to write consise programs swithching from imperative style to functional style scpecially in loop structures.\n",
    "\n",
    "Inside scala loops is a term for exercising a task repeatedly and may include iterating through a range of data or repeating until a Boolean expression returns false.\n",
    "\n",
    "**Example** For and For each\n",
    "\n",
    "Different implementations for the last multipleArgs function."
   ]
  },
  {
   "cell_type": "code",
   "execution_count": 5,
   "metadata": {},
   "outputs": [
    {
     "data": {
      "text/plain": [
       "multipleArgs: (params: Int*)Unit\n"
      ]
     },
     "metadata": {},
     "output_type": "display_data"
    },
    {
     "name": "stdout",
     "output_type": "stream",
     "text": [
      "params at 0 is : 1\n",
      "params at 1 is : 2\n",
      "params at 2 is : 3\n",
      "params at 3 is : 5\n"
     ]
    }
   ],
   "source": [
    "def multipleArgs(params: Int*)= {\n",
    "    for (i <- 0 until params.length)\n",
    "        println(s\"params at $i is : ${params(i)}\")\n",
    "}\n",
    "\n",
    "multipleArgs(1,2,3,5)"
   ]
  },
  {
   "cell_type": "code",
   "execution_count": 6,
   "metadata": {},
   "outputs": [
    {
     "data": {
      "text/plain": [
       "multipleArgs: (params: Int*)Unit\n"
      ]
     },
     "metadata": {},
     "output_type": "display_data"
    },
    {
     "name": "stdout",
     "output_type": "stream",
     "text": [
      "1\n",
      "2\n",
      "3\n",
      "5\n"
     ]
    }
   ],
   "source": [
    "def multipleArgs(params: Int*)= {\n",
    "    for (param <- params){\n",
    "        println(param)\n",
    "    }\n",
    "}\n",
    "multipleArgs(1,2,3,5)"
   ]
  },
  {
   "cell_type": "markdown",
   "metadata": {},
   "source": [
    "\n",
    "The most important looping structure in Scala is the for-loop which is also called “for comprehension”. For loops in scala can iterate over a range of data executing an expression every time and optionally return values that is a collection of all the expression’s return values. These loops are highly supporting nested iterating, filtering, value binding and are customizable.\n",
    "\n",
    "**Example**\n",
    "\n",
    "For example in scala an other more concise to iterate is the following"
   ]
  },
  {
   "cell_type": "code",
   "execution_count": 7,
   "metadata": {},
   "outputs": [
    {
     "data": {
      "text/plain": [
       "multipleArgs: (params: Int*)Unit\n"
      ]
     },
     "metadata": {},
     "output_type": "display_data"
    },
    {
     "name": "stdout",
     "output_type": "stream",
     "text": [
      "1\n",
      "2\n",
      "3\n",
      "5\n"
     ]
    }
   ],
   "source": [
    "def multipleArgs(params: Int*)= {\n",
    "    params.foreach(println)\n",
    "}\n",
    "multipleArgs(1,2,3,5)"
   ]
  },
  {
   "cell_type": "markdown",
   "metadata": {},
   "source": [
    "This code print the even numbers from 0 to 10"
   ]
  },
  {
   "cell_type": "code",
   "execution_count": 8,
   "metadata": {},
   "outputs": [
    {
     "name": "stdout",
     "output_type": "stream",
     "text": [
      "2\n",
      "4\n",
      "6\n",
      "8\n",
      "10\n"
     ]
    }
   ],
   "source": [
    "for (i <- 1 to 10 if i % 2 ==0) println(i)"
   ]
  }
 ],
 "metadata": {
  "kernelspec": {
   "display_name": "Apache Toree - Scala",
   "language": "scala",
   "name": "apache_toree_scala"
  },
  "language_info": {
   "codemirror_mode": "text/x-scala",
   "file_extension": ".scala",
   "mimetype": "text/x-scala",
   "name": "scala",
   "pygments_lexer": "scala",
   "version": "2.11.12"
  }
 },
 "nbformat": 4,
 "nbformat_minor": 2
}
